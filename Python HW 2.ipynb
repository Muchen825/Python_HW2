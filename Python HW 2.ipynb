{
 "cells": [
  {
   "cell_type": "code",
   "execution_count": 7,
   "metadata": {
    "collapsed": false
   },
   "outputs": [
    {
     "data": {
      "text/plain": [
       "5.5"
      ]
     },
     "execution_count": 7,
     "metadata": {},
     "output_type": "execute_result"
    }
   ],
   "source": [
    "# Nested self-defined functions\n",
    "\n",
    "def my_mean(input_list):\n",
    "    def my_sum(input_list):\n",
    "        summation = 0\n",
    "        for i in input_list:\n",
    "            summation += i # summation = summation + i\n",
    "        return summation\n",
    "    \n",
    "    def my_len(input_list):\n",
    "        length = 0\n",
    "        for i in input_list:\n",
    "            length += 1 # length = length + 1\n",
    "        return length\n",
    "    \n",
    "    ans = my_sum(input_list) / my_len(input_list)\n",
    "    return ans\n",
    "\n",
    "my_list = list(range(1, 11))\n",
    "my_mean(my_list)\n",
    "\n",
    "my_list = list(range(1, 11))\n",
    "my_mean(my_list)"
   ]
  },
  {
   "cell_type": "code",
   "execution_count": 10,
   "metadata": {
    "collapsed": false
   },
   "outputs": [
    {
     "data": {
      "text/plain": [
       "28.577380332470412"
      ]
     },
     "execution_count": 10,
     "metadata": {},
     "output_type": "execute_result"
    }
   ],
   "source": [
    "import math\n",
    "\n",
    "def SD_formula(number_list):\n",
    "    \n",
    "    N = len(number_list)\n",
    "    summation = 0\n",
    "    \n",
    "    for n in number_list:\n",
    "        summation += n\n",
    "        numbers_mean = summation / N\n",
    "    \n",
    "    sum_sq_deviation = 0\n",
    "    for n in number_list:\n",
    "        sum_sq_deviation += (n - numbers_mean)**2\n",
    "    \n",
    "    return math.sqrt(sum_sq_deviation / N)\n",
    "    \n",
    "my_numbers = list(range(1,100))\n",
    "SD_formula(my_numbers)"
   ]
  },
  {
   "cell_type": "code",
   "execution_count": null,
   "metadata": {
    "collapsed": true
   },
   "outputs": [],
   "source": []
  }
 ],
 "metadata": {
  "kernelspec": {
   "display_name": "Python 3",
   "language": "python",
   "name": "python3"
  },
  "language_info": {
   "codemirror_mode": {
    "name": "ipython",
    "version": 3
   },
   "file_extension": ".py",
   "mimetype": "text/x-python",
   "name": "python",
   "nbconvert_exporter": "python",
   "pygments_lexer": "ipython3",
   "version": "3.6.0"
  }
 },
 "nbformat": 4,
 "nbformat_minor": 2
}
